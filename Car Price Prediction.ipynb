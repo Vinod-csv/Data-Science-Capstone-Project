{
 "cells": [
  {
   "cell_type": "code",
   "execution_count": 74,
   "metadata": {},
   "outputs": [],
   "source": [
    "import pandas as pd\n",
    "import numpy as np\n",
    "import matplotlib.pyplot as plt\n",
    "import seaborn as sns\n",
    "\n",
    "import warnings\n",
    "warnings.filterwarnings('ignore')"
   ]
  },
  {
   "cell_type": "code",
   "execution_count": 75,
   "metadata": {},
   "outputs": [
    {
     "data": {
      "text/html": [
       "<div>\n",
       "<style scoped>\n",
       "    .dataframe tbody tr th:only-of-type {\n",
       "        vertical-align: middle;\n",
       "    }\n",
       "\n",
       "    .dataframe tbody tr th {\n",
       "        vertical-align: top;\n",
       "    }\n",
       "\n",
       "    .dataframe thead th {\n",
       "        text-align: right;\n",
       "    }\n",
       "</style>\n",
       "<table border=\"1\" class=\"dataframe\">\n",
       "  <thead>\n",
       "    <tr style=\"text-align: right;\">\n",
       "      <th></th>\n",
       "      <th>name</th>\n",
       "      <th>Brand Name</th>\n",
       "      <th>year</th>\n",
       "      <th>selling_price</th>\n",
       "      <th>km_driven</th>\n",
       "      <th>fuel</th>\n",
       "      <th>seller_type</th>\n",
       "      <th>transmission</th>\n",
       "      <th>owner</th>\n",
       "    </tr>\n",
       "  </thead>\n",
       "  <tbody>\n",
       "    <tr>\n",
       "      <th>0</th>\n",
       "      <td>Maruti 800 AC</td>\n",
       "      <td>Maruti</td>\n",
       "      <td>2007</td>\n",
       "      <td>60000</td>\n",
       "      <td>70000</td>\n",
       "      <td>Petrol</td>\n",
       "      <td>Individual</td>\n",
       "      <td>Manual</td>\n",
       "      <td>First Owner</td>\n",
       "    </tr>\n",
       "    <tr>\n",
       "      <th>1</th>\n",
       "      <td>Maruti Wagon R LXI Minor</td>\n",
       "      <td>Maruti</td>\n",
       "      <td>2007</td>\n",
       "      <td>135000</td>\n",
       "      <td>50000</td>\n",
       "      <td>Petrol</td>\n",
       "      <td>Individual</td>\n",
       "      <td>Manual</td>\n",
       "      <td>First Owner</td>\n",
       "    </tr>\n",
       "    <tr>\n",
       "      <th>2</th>\n",
       "      <td>Hyundai Verna 1.6 SX</td>\n",
       "      <td>Hyundai</td>\n",
       "      <td>2012</td>\n",
       "      <td>600000</td>\n",
       "      <td>100000</td>\n",
       "      <td>Diesel</td>\n",
       "      <td>Individual</td>\n",
       "      <td>Manual</td>\n",
       "      <td>First Owner</td>\n",
       "    </tr>\n",
       "    <tr>\n",
       "      <th>3</th>\n",
       "      <td>Datsun RediGO T Option</td>\n",
       "      <td>Datsun</td>\n",
       "      <td>2017</td>\n",
       "      <td>250000</td>\n",
       "      <td>46000</td>\n",
       "      <td>Petrol</td>\n",
       "      <td>Individual</td>\n",
       "      <td>Manual</td>\n",
       "      <td>First Owner</td>\n",
       "    </tr>\n",
       "    <tr>\n",
       "      <th>4</th>\n",
       "      <td>Honda Amaze VX i-DTEC</td>\n",
       "      <td>Honda</td>\n",
       "      <td>2014</td>\n",
       "      <td>450000</td>\n",
       "      <td>141000</td>\n",
       "      <td>Diesel</td>\n",
       "      <td>Individual</td>\n",
       "      <td>Manual</td>\n",
       "      <td>Second Owner</td>\n",
       "    </tr>\n",
       "  </tbody>\n",
       "</table>\n",
       "</div>"
      ],
      "text/plain": [
       "                       name Brand Name   year  selling_price  km_driven  \\\n",
       "0             Maruti 800 AC      Maruti  2007          60000      70000   \n",
       "1  Maruti Wagon R LXI Minor      Maruti  2007         135000      50000   \n",
       "2      Hyundai Verna 1.6 SX     Hyundai  2012         600000     100000   \n",
       "3    Datsun RediGO T Option      Datsun  2017         250000      46000   \n",
       "4     Honda Amaze VX i-DTEC       Honda  2014         450000     141000   \n",
       "\n",
       "     fuel seller_type transmission         owner  \n",
       "0  Petrol  Individual       Manual   First Owner  \n",
       "1  Petrol  Individual       Manual   First Owner  \n",
       "2  Diesel  Individual       Manual   First Owner  \n",
       "3  Petrol  Individual       Manual   First Owner  \n",
       "4  Diesel  Individual       Manual  Second Owner  "
      ]
     },
     "execution_count": 75,
     "metadata": {},
     "output_type": "execute_result"
    }
   ],
   "source": [
    "dataset = pd.read_csv('CAR DETAILS.csv')\n",
    "dataset.head(5)"
   ]
  },
  {
   "cell_type": "code",
   "execution_count": 76,
   "metadata": {},
   "outputs": [
    {
     "data": {
      "text/plain": [
       "(4340, 9)"
      ]
     },
     "execution_count": 76,
     "metadata": {},
     "output_type": "execute_result"
    }
   ],
   "source": [
    "dataset.shape"
   ]
  },
  {
   "cell_type": "code",
   "execution_count": 77,
   "metadata": {},
   "outputs": [
    {
     "data": {
      "text/plain": [
       "name             object\n",
       "Brand Name       object\n",
       "year              int64\n",
       "selling_price     int64\n",
       "km_driven         int64\n",
       "fuel             object\n",
       "seller_type      object\n",
       "transmission     object\n",
       "owner            object\n",
       "dtype: object"
      ]
     },
     "execution_count": 77,
     "metadata": {},
     "output_type": "execute_result"
    }
   ],
   "source": [
    "dataset.dtypes"
   ]
  },
  {
   "cell_type": "code",
   "execution_count": 78,
   "metadata": {},
   "outputs": [
    {
     "data": {
      "text/plain": [
       "Index(['name', 'Brand Name ', 'year', 'selling_price', 'km_driven', 'fuel',\n",
       "       'seller_type', 'transmission', 'owner'],\n",
       "      dtype='object')"
      ]
     },
     "execution_count": 78,
     "metadata": {},
     "output_type": "execute_result"
    }
   ],
   "source": [
    "dataset.columns"
   ]
  },
  {
   "cell_type": "code",
   "execution_count": 79,
   "metadata": {},
   "outputs": [
    {
     "data": {
      "text/plain": [
       "name             0\n",
       "Brand Name       0\n",
       "year             0\n",
       "selling_price    0\n",
       "km_driven        0\n",
       "fuel             0\n",
       "seller_type      0\n",
       "transmission     0\n",
       "owner            0\n",
       "dtype: int64"
      ]
     },
     "execution_count": 79,
     "metadata": {},
     "output_type": "execute_result"
    }
   ],
   "source": [
    "dataset.isnull().sum()"
   ]
  },
  {
   "cell_type": "code",
   "execution_count": 80,
   "metadata": {},
   "outputs": [
    {
     "data": {
      "text/plain": [
       "False    3577\n",
       "True      763\n",
       "Name: count, dtype: int64"
      ]
     },
     "execution_count": 80,
     "metadata": {},
     "output_type": "execute_result"
    }
   ],
   "source": [
    "dataset.duplicated().value_counts()\n"
   ]
  },
  {
   "cell_type": "code",
   "execution_count": 81,
   "metadata": {},
   "outputs": [
    {
     "data": {
      "text/html": [
       "<div>\n",
       "<style scoped>\n",
       "    .dataframe tbody tr th:only-of-type {\n",
       "        vertical-align: middle;\n",
       "    }\n",
       "\n",
       "    .dataframe tbody tr th {\n",
       "        vertical-align: top;\n",
       "    }\n",
       "\n",
       "    .dataframe thead th {\n",
       "        text-align: right;\n",
       "    }\n",
       "</style>\n",
       "<table border=\"1\" class=\"dataframe\">\n",
       "  <thead>\n",
       "    <tr style=\"text-align: right;\">\n",
       "      <th></th>\n",
       "      <th>year</th>\n",
       "      <th>selling_price</th>\n",
       "      <th>km_driven</th>\n",
       "    </tr>\n",
       "  </thead>\n",
       "  <tbody>\n",
       "    <tr>\n",
       "      <th>count</th>\n",
       "      <td>4340.000000</td>\n",
       "      <td>4.340000e+03</td>\n",
       "      <td>4340.000000</td>\n",
       "    </tr>\n",
       "    <tr>\n",
       "      <th>mean</th>\n",
       "      <td>2013.090783</td>\n",
       "      <td>5.041273e+05</td>\n",
       "      <td>66215.777419</td>\n",
       "    </tr>\n",
       "    <tr>\n",
       "      <th>std</th>\n",
       "      <td>4.215344</td>\n",
       "      <td>5.785487e+05</td>\n",
       "      <td>46644.102194</td>\n",
       "    </tr>\n",
       "    <tr>\n",
       "      <th>min</th>\n",
       "      <td>1992.000000</td>\n",
       "      <td>2.000000e+04</td>\n",
       "      <td>1.000000</td>\n",
       "    </tr>\n",
       "    <tr>\n",
       "      <th>25%</th>\n",
       "      <td>2011.000000</td>\n",
       "      <td>2.087498e+05</td>\n",
       "      <td>35000.000000</td>\n",
       "    </tr>\n",
       "    <tr>\n",
       "      <th>50%</th>\n",
       "      <td>2014.000000</td>\n",
       "      <td>3.500000e+05</td>\n",
       "      <td>60000.000000</td>\n",
       "    </tr>\n",
       "    <tr>\n",
       "      <th>75%</th>\n",
       "      <td>2016.000000</td>\n",
       "      <td>6.000000e+05</td>\n",
       "      <td>90000.000000</td>\n",
       "    </tr>\n",
       "    <tr>\n",
       "      <th>max</th>\n",
       "      <td>2020.000000</td>\n",
       "      <td>8.900000e+06</td>\n",
       "      <td>806599.000000</td>\n",
       "    </tr>\n",
       "  </tbody>\n",
       "</table>\n",
       "</div>"
      ],
      "text/plain": [
       "              year  selling_price      km_driven\n",
       "count  4340.000000   4.340000e+03    4340.000000\n",
       "mean   2013.090783   5.041273e+05   66215.777419\n",
       "std       4.215344   5.785487e+05   46644.102194\n",
       "min    1992.000000   2.000000e+04       1.000000\n",
       "25%    2011.000000   2.087498e+05   35000.000000\n",
       "50%    2014.000000   3.500000e+05   60000.000000\n",
       "75%    2016.000000   6.000000e+05   90000.000000\n",
       "max    2020.000000   8.900000e+06  806599.000000"
      ]
     },
     "execution_count": 81,
     "metadata": {},
     "output_type": "execute_result"
    }
   ],
   "source": [
    "dataset.describe()"
   ]
  },
  {
   "cell_type": "code",
   "execution_count": 82,
   "metadata": {},
   "outputs": [],
   "source": [
    "dataset2 = dataset.copy()"
   ]
  },
  {
   "cell_type": "code",
   "execution_count": 83,
   "metadata": {},
   "outputs": [
    {
     "data": {
      "text/plain": [
       "(3577, 9)"
      ]
     },
     "execution_count": 83,
     "metadata": {},
     "output_type": "execute_result"
    }
   ],
   "source": [
    "dataset2.drop_duplicates(inplace= True)\n",
    "dataset2.shape"
   ]
  },
  {
   "cell_type": "code",
   "execution_count": 84,
   "metadata": {},
   "outputs": [
    {
     "data": {
      "text/plain": [
       "np.int64(0)"
      ]
     },
     "execution_count": 84,
     "metadata": {},
     "output_type": "execute_result"
    }
   ],
   "source": [
    "dataset2.duplicated().sum()"
   ]
  },
  {
   "cell_type": "code",
   "execution_count": 85,
   "metadata": {},
   "outputs": [
    {
     "data": {
      "text/html": [
       "<div>\n",
       "<style scoped>\n",
       "    .dataframe tbody tr th:only-of-type {\n",
       "        vertical-align: middle;\n",
       "    }\n",
       "\n",
       "    .dataframe tbody tr th {\n",
       "        vertical-align: top;\n",
       "    }\n",
       "\n",
       "    .dataframe thead th {\n",
       "        text-align: right;\n",
       "    }\n",
       "</style>\n",
       "<table border=\"1\" class=\"dataframe\">\n",
       "  <thead>\n",
       "    <tr style=\"text-align: right;\">\n",
       "      <th></th>\n",
       "      <th>name</th>\n",
       "      <th>Brand Name</th>\n",
       "      <th>year</th>\n",
       "      <th>selling_price</th>\n",
       "      <th>km_driven</th>\n",
       "      <th>fuel</th>\n",
       "      <th>seller_type</th>\n",
       "      <th>transmission</th>\n",
       "      <th>owner</th>\n",
       "    </tr>\n",
       "  </thead>\n",
       "  <tbody>\n",
       "    <tr>\n",
       "      <th>0</th>\n",
       "      <td>Maruti 800 AC</td>\n",
       "      <td>Maruti</td>\n",
       "      <td>2007</td>\n",
       "      <td>60000</td>\n",
       "      <td>70000</td>\n",
       "      <td>Petrol</td>\n",
       "      <td>Individual</td>\n",
       "      <td>Manual</td>\n",
       "      <td>First Owner</td>\n",
       "    </tr>\n",
       "    <tr>\n",
       "      <th>1</th>\n",
       "      <td>Maruti Wagon R LXI Minor</td>\n",
       "      <td>Maruti</td>\n",
       "      <td>2007</td>\n",
       "      <td>135000</td>\n",
       "      <td>50000</td>\n",
       "      <td>Petrol</td>\n",
       "      <td>Individual</td>\n",
       "      <td>Manual</td>\n",
       "      <td>First Owner</td>\n",
       "    </tr>\n",
       "    <tr>\n",
       "      <th>2</th>\n",
       "      <td>Hyundai Verna 1.6 SX</td>\n",
       "      <td>Hyundai</td>\n",
       "      <td>2012</td>\n",
       "      <td>600000</td>\n",
       "      <td>100000</td>\n",
       "      <td>Diesel</td>\n",
       "      <td>Individual</td>\n",
       "      <td>Manual</td>\n",
       "      <td>First Owner</td>\n",
       "    </tr>\n",
       "    <tr>\n",
       "      <th>3</th>\n",
       "      <td>Datsun RediGO T Option</td>\n",
       "      <td>Datsun</td>\n",
       "      <td>2017</td>\n",
       "      <td>250000</td>\n",
       "      <td>46000</td>\n",
       "      <td>Petrol</td>\n",
       "      <td>Individual</td>\n",
       "      <td>Manual</td>\n",
       "      <td>First Owner</td>\n",
       "    </tr>\n",
       "    <tr>\n",
       "      <th>4</th>\n",
       "      <td>Honda Amaze VX i-DTEC</td>\n",
       "      <td>Honda</td>\n",
       "      <td>2014</td>\n",
       "      <td>450000</td>\n",
       "      <td>141000</td>\n",
       "      <td>Diesel</td>\n",
       "      <td>Individual</td>\n",
       "      <td>Manual</td>\n",
       "      <td>Second Owner</td>\n",
       "    </tr>\n",
       "  </tbody>\n",
       "</table>\n",
       "</div>"
      ],
      "text/plain": [
       "                       name Brand Name   year  selling_price  km_driven  \\\n",
       "0             Maruti 800 AC      Maruti  2007          60000      70000   \n",
       "1  Maruti Wagon R LXI Minor      Maruti  2007         135000      50000   \n",
       "2      Hyundai Verna 1.6 SX     Hyundai  2012         600000     100000   \n",
       "3    Datsun RediGO T Option      Datsun  2017         250000      46000   \n",
       "4     Honda Amaze VX i-DTEC       Honda  2014         450000     141000   \n",
       "\n",
       "     fuel seller_type transmission         owner  \n",
       "0  Petrol  Individual       Manual   First Owner  \n",
       "1  Petrol  Individual       Manual   First Owner  \n",
       "2  Diesel  Individual       Manual   First Owner  \n",
       "3  Petrol  Individual       Manual   First Owner  \n",
       "4  Diesel  Individual       Manual  Second Owner  "
      ]
     },
     "execution_count": 85,
     "metadata": {},
     "output_type": "execute_result"
    }
   ],
   "source": [
    "dataset2.head()"
   ]
  },
  {
   "cell_type": "code",
   "execution_count": 86,
   "metadata": {},
   "outputs": [
    {
     "data": {
      "text/html": [
       "<div>\n",
       "<style scoped>\n",
       "    .dataframe tbody tr th:only-of-type {\n",
       "        vertical-align: middle;\n",
       "    }\n",
       "\n",
       "    .dataframe tbody tr th {\n",
       "        vertical-align: top;\n",
       "    }\n",
       "\n",
       "    .dataframe thead th {\n",
       "        text-align: right;\n",
       "    }\n",
       "</style>\n",
       "<table border=\"1\" class=\"dataframe\">\n",
       "  <thead>\n",
       "    <tr style=\"text-align: right;\">\n",
       "      <th></th>\n",
       "      <th>Brand Name</th>\n",
       "      <th>year</th>\n",
       "      <th>selling_price</th>\n",
       "      <th>km_driven</th>\n",
       "      <th>fuel</th>\n",
       "      <th>seller_type</th>\n",
       "      <th>transmission</th>\n",
       "      <th>owner</th>\n",
       "    </tr>\n",
       "  </thead>\n",
       "  <tbody>\n",
       "    <tr>\n",
       "      <th>0</th>\n",
       "      <td>Maruti</td>\n",
       "      <td>2007</td>\n",
       "      <td>60000</td>\n",
       "      <td>70000</td>\n",
       "      <td>Petrol</td>\n",
       "      <td>Individual</td>\n",
       "      <td>Manual</td>\n",
       "      <td>First Owner</td>\n",
       "    </tr>\n",
       "    <tr>\n",
       "      <th>1</th>\n",
       "      <td>Maruti</td>\n",
       "      <td>2007</td>\n",
       "      <td>135000</td>\n",
       "      <td>50000</td>\n",
       "      <td>Petrol</td>\n",
       "      <td>Individual</td>\n",
       "      <td>Manual</td>\n",
       "      <td>First Owner</td>\n",
       "    </tr>\n",
       "    <tr>\n",
       "      <th>2</th>\n",
       "      <td>Hyundai</td>\n",
       "      <td>2012</td>\n",
       "      <td>600000</td>\n",
       "      <td>100000</td>\n",
       "      <td>Diesel</td>\n",
       "      <td>Individual</td>\n",
       "      <td>Manual</td>\n",
       "      <td>First Owner</td>\n",
       "    </tr>\n",
       "    <tr>\n",
       "      <th>3</th>\n",
       "      <td>Datsun</td>\n",
       "      <td>2017</td>\n",
       "      <td>250000</td>\n",
       "      <td>46000</td>\n",
       "      <td>Petrol</td>\n",
       "      <td>Individual</td>\n",
       "      <td>Manual</td>\n",
       "      <td>First Owner</td>\n",
       "    </tr>\n",
       "    <tr>\n",
       "      <th>4</th>\n",
       "      <td>Honda</td>\n",
       "      <td>2014</td>\n",
       "      <td>450000</td>\n",
       "      <td>141000</td>\n",
       "      <td>Diesel</td>\n",
       "      <td>Individual</td>\n",
       "      <td>Manual</td>\n",
       "      <td>Second Owner</td>\n",
       "    </tr>\n",
       "  </tbody>\n",
       "</table>\n",
       "</div>"
      ],
      "text/plain": [
       "  Brand Name   year  selling_price  km_driven    fuel seller_type  \\\n",
       "0      Maruti  2007          60000      70000  Petrol  Individual   \n",
       "1      Maruti  2007         135000      50000  Petrol  Individual   \n",
       "2     Hyundai  2012         600000     100000  Diesel  Individual   \n",
       "3      Datsun  2017         250000      46000  Petrol  Individual   \n",
       "4       Honda  2014         450000     141000  Diesel  Individual   \n",
       "\n",
       "  transmission         owner  \n",
       "0       Manual   First Owner  \n",
       "1       Manual   First Owner  \n",
       "2       Manual   First Owner  \n",
       "3       Manual   First Owner  \n",
       "4       Manual  Second Owner  "
      ]
     },
     "execution_count": 86,
     "metadata": {},
     "output_type": "execute_result"
    }
   ],
   "source": [
    "dataset2.drop('name', axis = 1, inplace= True)\n",
    "dataset2.head()"
   ]
  },
  {
   "cell_type": "code",
   "execution_count": 87,
   "metadata": {},
   "outputs": [
    {
     "data": {
      "text/plain": [
       "Brand Name       object\n",
       "year              int64\n",
       "selling_price     int64\n",
       "km_driven         int64\n",
       "fuel             object\n",
       "seller_type      object\n",
       "transmission     object\n",
       "owner            object\n",
       "dtype: object"
      ]
     },
     "execution_count": 87,
     "metadata": {},
     "output_type": "execute_result"
    }
   ],
   "source": [
    "dataset2.dtypes"
   ]
  },
  {
   "cell_type": "code",
   "execution_count": 88,
   "metadata": {},
   "outputs": [],
   "source": [
    "cat_cols = dataset2.dtypes[dataset2.dtypes=='object'].index\n",
    "num_cols = dataset2.dtypes[dataset2.dtypes=='int64'].index"
   ]
  },
  {
   "cell_type": "code",
   "execution_count": 89,
   "metadata": {},
   "outputs": [
    {
     "name": "stdout",
     "output_type": "stream",
     "text": [
      "Index(['Brand Name ', 'fuel', 'seller_type', 'transmission', 'owner'], dtype='object')\n",
      "Index(['year', 'selling_price', 'km_driven'], dtype='object')\n"
     ]
    }
   ],
   "source": [
    "print(cat_cols)\n",
    "print(num_cols)"
   ]
  },
  {
   "cell_type": "code",
   "execution_count": 91,
   "metadata": {},
   "outputs": [
    {
     "name": "stdout",
     "output_type": "stream",
     "text": [
      "Feature: year | Unique_count : 27\n",
      "Feature: selling_price | Unique_count : 445\n",
      "Feature: km_driven | Unique_count : 770\n"
     ]
    }
   ],
   "source": [
    "for i in num_cols:\n",
    "    print(f'Feature: {i} | Unique_count : {dataset2[i].nunique()}')"
   ]
  },
  {
   "cell_type": "markdown",
   "metadata": {},
   "source": [
    "#### Finding correlation"
   ]
  },
  {
   "cell_type": "code",
   "execution_count": 93,
   "metadata": {},
   "outputs": [
    {
     "data": {
      "text/html": [
       "<div>\n",
       "<style scoped>\n",
       "    .dataframe tbody tr th:only-of-type {\n",
       "        vertical-align: middle;\n",
       "    }\n",
       "\n",
       "    .dataframe tbody tr th {\n",
       "        vertical-align: top;\n",
       "    }\n",
       "\n",
       "    .dataframe thead th {\n",
       "        text-align: right;\n",
       "    }\n",
       "</style>\n",
       "<table border=\"1\" class=\"dataframe\">\n",
       "  <thead>\n",
       "    <tr style=\"text-align: right;\">\n",
       "      <th></th>\n",
       "      <th>year</th>\n",
       "      <th>selling_price</th>\n",
       "      <th>km_driven</th>\n",
       "    </tr>\n",
       "  </thead>\n",
       "  <tbody>\n",
       "    <tr>\n",
       "      <th>year</th>\n",
       "      <td>1.00000</td>\n",
       "      <td>0.424260</td>\n",
       "      <td>-0.417490</td>\n",
       "    </tr>\n",
       "    <tr>\n",
       "      <th>selling_price</th>\n",
       "      <td>0.42426</td>\n",
       "      <td>1.000000</td>\n",
       "      <td>-0.187359</td>\n",
       "    </tr>\n",
       "    <tr>\n",
       "      <th>km_driven</th>\n",
       "      <td>-0.41749</td>\n",
       "      <td>-0.187359</td>\n",
       "      <td>1.000000</td>\n",
       "    </tr>\n",
       "  </tbody>\n",
       "</table>\n",
       "</div>"
      ],
      "text/plain": [
       "                  year  selling_price  km_driven\n",
       "year           1.00000       0.424260  -0.417490\n",
       "selling_price  0.42426       1.000000  -0.187359\n",
       "km_driven     -0.41749      -0.187359   1.000000"
      ]
     },
     "execution_count": 93,
     "metadata": {},
     "output_type": "execute_result"
    }
   ],
   "source": [
    "corr = dataset2[num_cols].corr()\n",
    "corr"
   ]
  },
  {
   "cell_type": "code",
   "execution_count": 96,
   "metadata": {},
   "outputs": [],
   "source": [
    "#### Finding Outliers and Treating them.."
   ]
  },
  {
   "cell_type": "code",
   "execution_count": 97,
   "metadata": {},
   "outputs": [
    {
     "data": {
      "image/png": "[encoded data removed]",
      "text/plain": [
       "<Figure size 1600x1200 with 3 Axes>"
      ]
     },
     "metadata": {},
     "output_type": "display_data"
    }
   ],
   "source": [
    "plt.figure(figsize=(16,12))\n",
    "for i in range(len(num_cols)):\n",
    "    plt.subplot(4,2,i+1)\n",
    "    sns.boxplot(x= dataset2[num_cols[i]])\n",
    "plt.show()"
   ]
  },
  {
   "cell_type": "code",
   "execution_count": 98,
   "metadata": {},
   "outputs": [
    {
     "data": {
      "text/html": [
       "<div>\n",
       "<style scoped>\n",
       "    .dataframe tbody tr th:only-of-type {\n",
       "        vertical-align: middle;\n",
       "    }\n",
       "\n",
       "    .dataframe tbody tr th {\n",
       "        vertical-align: top;\n",
       "    }\n",
       "\n",
       "    .dataframe thead th {\n",
       "        text-align: right;\n",
       "    }\n",
       "</style>\n",
       "<table border=\"1\" class=\"dataframe\">\n",
       "  <thead>\n",
       "    <tr style=\"text-align: right;\">\n",
       "      <th></th>\n",
       "      <th>min</th>\n",
       "      <th>1%</th>\n",
       "      <th>2%</th>\n",
       "      <th>5%</th>\n",
       "      <th>50%</th>\n",
       "      <th>95%</th>\n",
       "      <th>97%</th>\n",
       "      <th>98%</th>\n",
       "      <th>99%</th>\n",
       "      <th>max</th>\n",
       "    </tr>\n",
       "  </thead>\n",
       "  <tbody>\n",
       "    <tr>\n",
       "      <th>selling_price</th>\n",
       "      <td>20000.0</td>\n",
       "      <td>51786.64</td>\n",
       "      <td>60000.0</td>\n",
       "      <td>80000.0</td>\n",
       "      <td>350000.0</td>\n",
       "      <td>1200000.0</td>\n",
       "      <td>1497200.0</td>\n",
       "      <td>1800000.0</td>\n",
       "      <td>2675000.0</td>\n",
       "      <td>8900000.0</td>\n",
       "    </tr>\n",
       "    <tr>\n",
       "      <th>km_driven</th>\n",
       "      <td>1.0</td>\n",
       "      <td>1744.08</td>\n",
       "      <td>5000.0</td>\n",
       "      <td>10000.0</td>\n",
       "      <td>60000.0</td>\n",
       "      <td>149534.8</td>\n",
       "      <td>170000.0</td>\n",
       "      <td>193440.0</td>\n",
       "      <td>223158.4</td>\n",
       "      <td>806599.0</td>\n",
       "    </tr>\n",
       "  </tbody>\n",
       "</table>\n",
       "</div>"
      ],
      "text/plain": [
       "                   min        1%       2%       5%       50%        95%  \\\n",
       "selling_price  20000.0  51786.64  60000.0  80000.0  350000.0  1200000.0   \n",
       "km_driven          1.0   1744.08   5000.0  10000.0   60000.0   149534.8   \n",
       "\n",
       "                     97%        98%        99%        max  \n",
       "selling_price  1497200.0  1800000.0  2675000.0  8900000.0  \n",
       "km_driven       170000.0   193440.0   223158.4   806599.0  "
      ]
     },
     "execution_count": 98,
     "metadata": {},
     "output_type": "execute_result"
    }
   ],
   "source": [
    "a = dataset2[['selling_price','km_driven']].describe(percentiles= [0.01,0.02,0.05,0.95,0.97,0.98,0.99]).T\n",
    "a = a.iloc[:,3:]\n",
    "a"
   ]
  },
  {
   "cell_type": "code",
   "execution_count": 99,
   "metadata": {},
   "outputs": [],
   "source": [
    "dataset2['selling_price'] = np.where(dataset2['selling_price']>1800000.0,1800000.0,dataset2['selling_price'])\n",
    "dataset2['km_driven'] = np.where(dataset2['km_driven']>193440.0,193440.0,dataset2['km_driven'])"
   ]
  },
  {
   "cell_type": "code",
   "execution_count": 100,
   "metadata": {},
   "outputs": [
    {
     "data": {
      "image/png": "[encoded data removed]",
      "text/plain": [
       "<Figure size 600x400 with 2 Axes>"
      ]
     },
     "metadata": {},
     "output_type": "display_data"
    }
   ],
   "source": [
    "cols2 = ['selling_price','km_driven']\n",
    "plt.figure(figsize=(6,4))\n",
    "for i in range(len(cols2)):\n",
    "    plt.subplot(2,1,i+1)\n",
    "    sns.boxplot(x= dataset2[cols2[i]])\n",
    "plt.show()"
   ]
  },
  {
   "cell_type": "code",
   "execution_count": 101,
   "metadata": {},
   "outputs": [
    {
     "data": {
      "image/png": "[encoded data removed]",
      "text/plain": [
       "<Figure size 600x600 with 1 Axes>"
      ]
     },
     "metadata": {},
     "output_type": "display_data"
    }
   ],
   "source": [
    "plt.figure(figsize=(6,6))\n",
    "ax1 = sns.countplot(y = dataset2['Brand Name '],\n",
    "                    order = dataset2['Brand Name '].value_counts().sort_values(ascending= False).index)\n",
    "ax1.bar_label(ax1.containers[0])\n",
    "plt.show()"
   ]
  },
  {
   "cell_type": "code",
   "execution_count": 146,
   "metadata": {},
   "outputs": [
    {
     "name": "stdout",
     "output_type": "stream",
     "text": [
      "Feature: Brand Name  | Unique_count : 11\n",
      "Feature: fuel | Unique_count : 5\n",
      "Feature: seller_type | Unique_count : 3\n",
      "Feature: transmission | Unique_count : 2\n",
      "Feature: owner | Unique_count : 5\n"
     ]
    }
   ],
   "source": [
    "for i in cat_cols:\n",
    "    print(f'Feature: {i} | Unique_count : {dataset2[i].nunique()}')"
   ]
  },
  {
   "cell_type": "code",
   "execution_count": 102,
   "metadata": {},
   "outputs": [
    {
     "data": {
      "text/plain": [
       "29"
      ]
     },
     "execution_count": 102,
     "metadata": {},
     "output_type": "execute_result"
    }
   ],
   "source": [
    "dataset2['Brand Name '].nunique()"
   ]
  },
  {
   "cell_type": "code",
   "execution_count": 103,
   "metadata": {},
   "outputs": [
    {
     "data": {
      "text/plain": [
       "Brand Name \n",
       "Maruti           1072\n",
       "Hyundai           637\n",
       "Mahindra          328\n",
       "Tata              308\n",
       "Ford              220\n",
       "Honda             216\n",
       "Toyota            170\n",
       "Chevrolet         151\n",
       "Renault           110\n",
       "Volkswagen         93\n",
       "Nissan             52\n",
       "Skoda              49\n",
       "Fiat               32\n",
       "Audi               31\n",
       "Datsun             29\n",
       "BMW                25\n",
       "Mercedes-Benz      21\n",
       "Mitsubishi          5\n",
       "Jaguar              5\n",
       "Land                5\n",
       "Volvo               4\n",
       "Jeep                3\n",
       "Ambassador          3\n",
       "OpelCorsa           2\n",
       "MG                  2\n",
       "Force               1\n",
       "Daewoo              1\n",
       "Isuzu               1\n",
       "Kia                 1\n",
       "Name: count, dtype: int64"
      ]
     },
     "execution_count": 103,
     "metadata": {},
     "output_type": "execute_result"
    }
   ],
   "source": [
    "dataset2['Brand Name '].value_counts()"
   ]
  },
  {
   "cell_type": "code",
   "execution_count": 104,
   "metadata": {},
   "outputs": [],
   "source": [
    "dataset2['Brand Name ']= dataset2['Brand Name '].replace(['Mitsubishi','Jaguar','Land','Volvo',\n",
    "                                                          'Jeep','Ambassador','OpelCorsa','Force','Daewoo',\n",
    "                                                          'Isuzu','Kia','MG','Mercedes-Benz','Fiat','Datsun',\n",
    "                                                          'BMW','Audi','Nissan','Skoda'],'Others')"
   ]
  },
  {
   "cell_type": "code",
   "execution_count": 105,
   "metadata": {},
   "outputs": [
    {
     "data": {
      "text/plain": [
       "Brand Name \n",
       "Maruti        1072\n",
       "Hyundai        637\n",
       "Mahindra       328\n",
       "Tata           308\n",
       "Others         272\n",
       "Ford           220\n",
       "Honda          216\n",
       "Toyota         170\n",
       "Chevrolet      151\n",
       "Renault        110\n",
       "Volkswagen      93\n",
       "Name: count, dtype: int64"
      ]
     },
     "execution_count": 105,
     "metadata": {},
     "output_type": "execute_result"
    }
   ],
   "source": [
    "dataset2['Brand Name '].value_counts()"
   ]
  },
  {
   "cell_type": "code",
   "execution_count": 106,
   "metadata": {},
   "outputs": [
    {
     "name": "stdout",
     "output_type": "stream",
     "text": [
      "Brand Name  11\n",
      "fuel 5\n",
      "seller_type 3\n",
      "transmission 2\n",
      "owner 5\n"
     ]
    }
   ],
   "source": [
    "for i in cat_cols:\n",
    "    print(i,dataset2[i].nunique())"
   ]
  },
  {
   "cell_type": "code",
   "execution_count": 109,
   "metadata": {},
   "outputs": [
    {
     "data": {
      "text/plain": [
       "fuel\n",
       "Diesel      1800\n",
       "Petrol      1717\n",
       "CNG           37\n",
       "LPG           22\n",
       "Electric       1\n",
       "Name: count, dtype: int64"
      ]
     },
     "execution_count": 109,
     "metadata": {},
     "output_type": "execute_result"
    }
   ],
   "source": [
    "dataset2['fuel'].value_counts()"
   ]
  },
  {
   "cell_type": "code",
   "execution_count": 110,
   "metadata": {},
   "outputs": [
    {
     "data": {
      "text/plain": [
       "seller_type\n",
       "Individual          2832\n",
       "Dealer               712\n",
       "Trustmark Dealer      33\n",
       "Name: count, dtype: int64"
      ]
     },
     "execution_count": 110,
     "metadata": {},
     "output_type": "execute_result"
    }
   ],
   "source": [
    "dataset2['seller_type'].value_counts()"
   ]
  },
  {
   "cell_type": "code",
   "execution_count": 111,
   "metadata": {},
   "outputs": [
    {
     "data": {
      "text/plain": [
       "transmission\n",
       "Manual       3265\n",
       "Automatic     312\n",
       "Name: count, dtype: int64"
      ]
     },
     "execution_count": 111,
     "metadata": {},
     "output_type": "execute_result"
    }
   ],
   "source": [
    "dataset2['transmission'].value_counts()"
   ]
  },
  {
   "cell_type": "code",
   "execution_count": 112,
   "metadata": {},
   "outputs": [
    {
     "data": {
      "text/plain": [
       "owner\n",
       "First Owner             2218\n",
       "Second Owner             978\n",
       "Third Owner              289\n",
       "Fourth & Above Owner      75\n",
       "Test Drive Car            17\n",
       "Name: count, dtype: int64"
      ]
     },
     "execution_count": 112,
     "metadata": {},
     "output_type": "execute_result"
    }
   ],
   "source": [
    "dataset2['owner'].value_counts()"
   ]
  },
  {
   "cell_type": "markdown",
   "metadata": {},
   "source": [
    "#### Using label encoder for the Categorical columns"
   ]
  },
  {
   "cell_type": "code",
   "execution_count": 147,
   "metadata": {},
   "outputs": [],
   "source": [
    "from sklearn.preprocessing import LabelEncoder\n",
    "Lb_enc = LabelEncoder()"
   ]
  },
  {
   "cell_type": "code",
   "execution_count": 148,
   "metadata": {},
   "outputs": [],
   "source": [
    "for i in cat_cols:\n",
    "    dataset2[i] = Lb_enc.fit_transform(dataset2[i])"
   ]
  },
  {
   "cell_type": "markdown",
   "metadata": {},
   "source": [
    "Selecting X and Y values"
   ]
  },
  {
   "cell_type": "code",
   "execution_count": 116,
   "metadata": {},
   "outputs": [
    {
     "name": "stdout",
     "output_type": "stream",
     "text": [
      "(3577, 7)\n",
      "(3577,)\n"
     ]
    }
   ],
   "source": [
    "x = dataset2.drop('selling_price',axis = 1)\n",
    "y = dataset2['selling_price']\n",
    "print(x.shape)\n",
    "print(y.shape)"
   ]
  },
  {
   "cell_type": "markdown",
   "metadata": {},
   "source": [
    "Splitting the data into training and testing"
   ]
  },
  {
   "cell_type": "code",
   "execution_count": 117,
   "metadata": {},
   "outputs": [],
   "source": [
    "from sklearn.model_selection import train_test_split"
   ]
  },
  {
   "cell_type": "code",
   "execution_count": 118,
   "metadata": {},
   "outputs": [
    {
     "name": "stdout",
     "output_type": "stream",
     "text": [
      "(2503, 7)\n",
      "(1074, 7)\n",
      "(2503,)\n",
      "(1074,)\n"
     ]
    }
   ],
   "source": [
    "x_train,x_test,y_train,y_test = train_test_split(x,y,test_size= 0.30,random_state= 42)\n",
    "print(x_train.shape)\n",
    "print(x_test.shape)\n",
    "print(y_train.shape)\n",
    "print(y_test.shape)"
   ]
  },
  {
   "cell_type": "markdown",
   "metadata": {},
   "source": [
    "Model evalution matrics"
   ]
  },
  {
   "cell_type": "code",
   "execution_count": 119,
   "metadata": {},
   "outputs": [],
   "source": [
    "from sklearn.metrics import *"
   ]
  },
  {
   "cell_type": "code",
   "execution_count": 120,
   "metadata": {},
   "outputs": [],
   "source": [
    "def model_eval(model,x_train,y_train,x_test,y_test,mname):\n",
    "    model.fit(x_train,y_train)\n",
    "    y_pred = model.predict(x_test)\n",
    "\n",
    "    train_r2 = model.score(x_train,y_train)\n",
    "    test_r2 = model.score(x_test,y_test)\n",
    "\n",
    "    MAE = mean_absolute_error(y_test,y_pred)\n",
    "    MSE = mean_squared_error(y_test,y_pred)\n",
    "    RMSE = np.sqrt(MSE)\n",
    "\n",
    "    data = {'Train_r2':train_r2 , 'Test_r2':test_r2 ,'Mean_abs_error':MAE ,'Mean_sq_err': MSE, 'Root_mse':RMSE}\n",
    "    result = pd.DataFrame(data,index= [mname] )\n",
    "    return result\n",
    "\n"
   ]
  },
  {
   "cell_type": "code",
   "execution_count": 121,
   "metadata": {},
   "outputs": [],
   "source": [
    "from sklearn.linear_model import LinearRegression, Ridge, Lasso\n",
    "from sklearn.tree import DecisionTreeRegressor\n",
    "from sklearn.neighbors import KNeighborsRegressor\n",
    "from sklearn.ensemble import AdaBoostRegressor, BaggingRegressor, RandomForestRegressor\n"
   ]
  },
  {
   "cell_type": "markdown",
   "metadata": {},
   "source": [
    "1. Linear Regression\n"
   ]
  },
  {
   "cell_type": "code",
   "execution_count": 122,
   "metadata": {},
   "outputs": [
    {
     "data": {
      "text/html": [
       "<div>\n",
       "<style scoped>\n",
       "    .dataframe tbody tr th:only-of-type {\n",
       "        vertical-align: middle;\n",
       "    }\n",
       "\n",
       "    .dataframe tbody tr th {\n",
       "        vertical-align: top;\n",
       "    }\n",
       "\n",
       "    .dataframe thead th {\n",
       "        text-align: right;\n",
       "    }\n",
       "</style>\n",
       "<table border=\"1\" class=\"dataframe\">\n",
       "  <thead>\n",
       "    <tr style=\"text-align: right;\">\n",
       "      <th></th>\n",
       "      <th>Train_r2</th>\n",
       "      <th>Test_r2</th>\n",
       "      <th>Mean_abs_error</th>\n",
       "      <th>Mean_sq_err</th>\n",
       "      <th>Root_mse</th>\n",
       "    </tr>\n",
       "  </thead>\n",
       "  <tbody>\n",
       "    <tr>\n",
       "      <th>Linear Regression</th>\n",
       "      <td>0.529665</td>\n",
       "      <td>0.569068</td>\n",
       "      <td>175576.768167</td>\n",
       "      <td>5.736803e+10</td>\n",
       "      <td>239516.2456</td>\n",
       "    </tr>\n",
       "  </tbody>\n",
       "</table>\n",
       "</div>"
      ],
      "text/plain": [
       "                   Train_r2   Test_r2  Mean_abs_error   Mean_sq_err  \\\n",
       "Linear Regression  0.529665  0.569068   175576.768167  5.736803e+10   \n",
       "\n",
       "                      Root_mse  \n",
       "Linear Regression  239516.2456  "
      ]
     },
     "execution_count": 122,
     "metadata": {},
     "output_type": "execute_result"
    }
   ],
   "source": [
    "lr = LinearRegression()\n",
    "lr_result = model_eval(lr,x_train,y_train,x_test,y_test,'Linear Regression')\n",
    "lr_result"
   ]
  },
  {
   "cell_type": "markdown",
   "metadata": {},
   "source": [
    "2. Ridge Regression\n"
   ]
  },
  {
   "cell_type": "code",
   "execution_count": 123,
   "metadata": {},
   "outputs": [
    {
     "data": {
      "text/html": [
       "<div>\n",
       "<style scoped>\n",
       "    .dataframe tbody tr th:only-of-type {\n",
       "        vertical-align: middle;\n",
       "    }\n",
       "\n",
       "    .dataframe tbody tr th {\n",
       "        vertical-align: top;\n",
       "    }\n",
       "\n",
       "    .dataframe thead th {\n",
       "        text-align: right;\n",
       "    }\n",
       "</style>\n",
       "<table border=\"1\" class=\"dataframe\">\n",
       "  <thead>\n",
       "    <tr style=\"text-align: right;\">\n",
       "      <th></th>\n",
       "      <th>Train_r2</th>\n",
       "      <th>Test_r2</th>\n",
       "      <th>Mean_abs_error</th>\n",
       "      <th>Mean_sq_err</th>\n",
       "      <th>Root_mse</th>\n",
       "    </tr>\n",
       "  </thead>\n",
       "  <tbody>\n",
       "    <tr>\n",
       "      <th>Ridge Regression</th>\n",
       "      <td>0.529475</td>\n",
       "      <td>0.568439</td>\n",
       "      <td>175584.055371</td>\n",
       "      <td>5.745176e+10</td>\n",
       "      <td>239690.971808</td>\n",
       "    </tr>\n",
       "  </tbody>\n",
       "</table>\n",
       "</div>"
      ],
      "text/plain": [
       "                  Train_r2   Test_r2  Mean_abs_error   Mean_sq_err  \\\n",
       "Ridge Regression  0.529475  0.568439   175584.055371  5.745176e+10   \n",
       "\n",
       "                       Root_mse  \n",
       "Ridge Regression  239690.971808  "
      ]
     },
     "execution_count": 123,
     "metadata": {},
     "output_type": "execute_result"
    }
   ],
   "source": [
    "rid = Ridge(alpha= 7)\n",
    "rid_result = model_eval(rid,x_train,y_train,x_test,y_test,'Ridge Regression')\n",
    "rid_result"
   ]
  },
  {
   "cell_type": "markdown",
   "metadata": {},
   "source": [
    "3. Lasso Regression\n"
   ]
  },
  {
   "cell_type": "code",
   "execution_count": 124,
   "metadata": {},
   "outputs": [
    {
     "data": {
      "text/html": [
       "<div>\n",
       "<style scoped>\n",
       "    .dataframe tbody tr th:only-of-type {\n",
       "        vertical-align: middle;\n",
       "    }\n",
       "\n",
       "    .dataframe tbody tr th {\n",
       "        vertical-align: top;\n",
       "    }\n",
       "\n",
       "    .dataframe thead th {\n",
       "        text-align: right;\n",
       "    }\n",
       "</style>\n",
       "<table border=\"1\" class=\"dataframe\">\n",
       "  <thead>\n",
       "    <tr style=\"text-align: right;\">\n",
       "      <th></th>\n",
       "      <th>Train_r2</th>\n",
       "      <th>Test_r2</th>\n",
       "      <th>Mean_abs_error</th>\n",
       "      <th>Mean_sq_err</th>\n",
       "      <th>Root_mse</th>\n",
       "    </tr>\n",
       "  </thead>\n",
       "  <tbody>\n",
       "    <tr>\n",
       "      <th>Lasso Regression</th>\n",
       "      <td>0.529665</td>\n",
       "      <td>0.569064</td>\n",
       "      <td>175576.1325</td>\n",
       "      <td>5.736845e+10</td>\n",
       "      <td>239517.115495</td>\n",
       "    </tr>\n",
       "  </tbody>\n",
       "</table>\n",
       "</div>"
      ],
      "text/plain": [
       "                  Train_r2   Test_r2  Mean_abs_error   Mean_sq_err  \\\n",
       "Lasso Regression  0.529665  0.569064     175576.1325  5.736845e+10   \n",
       "\n",
       "                       Root_mse  \n",
       "Lasso Regression  239517.115495  "
      ]
     },
     "execution_count": 124,
     "metadata": {},
     "output_type": "execute_result"
    }
   ],
   "source": [
    "lass = Lasso(alpha= 9)\n",
    "lass_result = model_eval(lass,x_train,y_train,x_test,y_test,'Lasso Regression')\n",
    "lass_result"
   ]
  },
  {
   "cell_type": "markdown",
   "metadata": {},
   "source": [
    "4. Decision Tree Regressor\n"
   ]
  },
  {
   "cell_type": "code",
   "execution_count": 125,
   "metadata": {},
   "outputs": [
    {
     "data": {
      "text/html": [
       "<div>\n",
       "<style scoped>\n",
       "    .dataframe tbody tr th:only-of-type {\n",
       "        vertical-align: middle;\n",
       "    }\n",
       "\n",
       "    .dataframe tbody tr th {\n",
       "        vertical-align: top;\n",
       "    }\n",
       "\n",
       "    .dataframe thead th {\n",
       "        text-align: right;\n",
       "    }\n",
       "</style>\n",
       "<table border=\"1\" class=\"dataframe\">\n",
       "  <thead>\n",
       "    <tr style=\"text-align: right;\">\n",
       "      <th></th>\n",
       "      <th>Train_r2</th>\n",
       "      <th>Test_r2</th>\n",
       "      <th>Mean_abs_error</th>\n",
       "      <th>Mean_sq_err</th>\n",
       "      <th>Root_mse</th>\n",
       "    </tr>\n",
       "  </thead>\n",
       "  <tbody>\n",
       "    <tr>\n",
       "      <th>Decision Tree Regression</th>\n",
       "      <td>0.800632</td>\n",
       "      <td>0.61439</td>\n",
       "      <td>139416.521556</td>\n",
       "      <td>5.133450e+10</td>\n",
       "      <td>226571.187001</td>\n",
       "    </tr>\n",
       "  </tbody>\n",
       "</table>\n",
       "</div>"
      ],
      "text/plain": [
       "                          Train_r2  Test_r2  Mean_abs_error   Mean_sq_err  \\\n",
       "Decision Tree Regression  0.800632  0.61439   139416.521556  5.133450e+10   \n",
       "\n",
       "                               Root_mse  \n",
       "Decision Tree Regression  226571.187001  "
      ]
     },
     "execution_count": 125,
     "metadata": {},
     "output_type": "execute_result"
    }
   ],
   "source": [
    "dt = DecisionTreeRegressor(max_depth = 12, min_samples_split= 20)\n",
    "dt_result = model_eval(dt,x_train,y_train,x_test,y_test,'Decision Tree Regression')\n",
    "dt_result"
   ]
  },
  {
   "cell_type": "markdown",
   "metadata": {},
   "source": [
    "5. KNN regressor\n"
   ]
  },
  {
   "cell_type": "code",
   "execution_count": 126,
   "metadata": {},
   "outputs": [
    {
     "data": {
      "text/html": [
       "<div>\n",
       "<style scoped>\n",
       "    .dataframe tbody tr th:only-of-type {\n",
       "        vertical-align: middle;\n",
       "    }\n",
       "\n",
       "    .dataframe tbody tr th {\n",
       "        vertical-align: top;\n",
       "    }\n",
       "\n",
       "    .dataframe thead th {\n",
       "        text-align: right;\n",
       "    }\n",
       "</style>\n",
       "<table border=\"1\" class=\"dataframe\">\n",
       "  <thead>\n",
       "    <tr style=\"text-align: right;\">\n",
       "      <th></th>\n",
       "      <th>Train_r2</th>\n",
       "      <th>Test_r2</th>\n",
       "      <th>Mean_abs_error</th>\n",
       "      <th>Mean_sq_err</th>\n",
       "      <th>Root_mse</th>\n",
       "    </tr>\n",
       "  </thead>\n",
       "  <tbody>\n",
       "    <tr>\n",
       "      <th>KNN Regression</th>\n",
       "      <td>0.591444</td>\n",
       "      <td>0.184959</td>\n",
       "      <td>217855.848231</td>\n",
       "      <td>1.085026e+11</td>\n",
       "      <td>329397.385415</td>\n",
       "    </tr>\n",
       "  </tbody>\n",
       "</table>\n",
       "</div>"
      ],
      "text/plain": [
       "                Train_r2   Test_r2  Mean_abs_error   Mean_sq_err  \\\n",
       "KNN Regression  0.591444  0.184959   217855.848231  1.085026e+11   \n",
       "\n",
       "                     Root_mse  \n",
       "KNN Regression  329397.385415  "
      ]
     },
     "execution_count": 126,
     "metadata": {},
     "output_type": "execute_result"
    }
   ],
   "source": [
    "knn = KNeighborsRegressor(n_neighbors=3)\n",
    "knn_result = model_eval(knn,x_train,y_train,x_test,y_test,'KNN Regression')\n",
    "knn_result"
   ]
  },
  {
   "cell_type": "markdown",
   "metadata": {},
   "source": [
    "6. AdaBoost regressor\n"
   ]
  },
  {
   "cell_type": "code",
   "execution_count": 127,
   "metadata": {},
   "outputs": [
    {
     "data": {
      "text/html": [
       "<div>\n",
       "<style scoped>\n",
       "    .dataframe tbody tr th:only-of-type {\n",
       "        vertical-align: middle;\n",
       "    }\n",
       "\n",
       "    .dataframe tbody tr th {\n",
       "        vertical-align: top;\n",
       "    }\n",
       "\n",
       "    .dataframe thead th {\n",
       "        text-align: right;\n",
       "    }\n",
       "</style>\n",
       "<table border=\"1\" class=\"dataframe\">\n",
       "  <thead>\n",
       "    <tr style=\"text-align: right;\">\n",
       "      <th></th>\n",
       "      <th>Train_r2</th>\n",
       "      <th>Test_r2</th>\n",
       "      <th>Mean_abs_error</th>\n",
       "      <th>Mean_sq_err</th>\n",
       "      <th>Root_mse</th>\n",
       "    </tr>\n",
       "  </thead>\n",
       "  <tbody>\n",
       "    <tr>\n",
       "      <th>AdaBoost Regression</th>\n",
       "      <td>0.546133</td>\n",
       "      <td>0.560377</td>\n",
       "      <td>194238.006452</td>\n",
       "      <td>5.852493e+10</td>\n",
       "      <td>241919.267349</td>\n",
       "    </tr>\n",
       "  </tbody>\n",
       "</table>\n",
       "</div>"
      ],
      "text/plain": [
       "                     Train_r2   Test_r2  Mean_abs_error   Mean_sq_err  \\\n",
       "AdaBoost Regression  0.546133  0.560377   194238.006452  5.852493e+10   \n",
       "\n",
       "                          Root_mse  \n",
       "AdaBoost Regression  241919.267349  "
      ]
     },
     "execution_count": 127,
     "metadata": {},
     "output_type": "execute_result"
    }
   ],
   "source": [
    "ada = AdaBoostRegressor(n_estimators = 100)\n",
    "ada_result = model_eval(ada,x_train,y_train,x_test,y_test,'AdaBoost Regression')\n",
    "ada_result"
   ]
  },
  {
   "cell_type": "markdown",
   "metadata": {},
   "source": [
    "7. Random Forest \n"
   ]
  },
  {
   "cell_type": "code",
   "execution_count": 128,
   "metadata": {},
   "outputs": [
    {
     "data": {
      "text/html": [
       "<div>\n",
       "<style scoped>\n",
       "    .dataframe tbody tr th:only-of-type {\n",
       "        vertical-align: middle;\n",
       "    }\n",
       "\n",
       "    .dataframe tbody tr th {\n",
       "        vertical-align: top;\n",
       "    }\n",
       "\n",
       "    .dataframe thead th {\n",
       "        text-align: right;\n",
       "    }\n",
       "</style>\n",
       "<table border=\"1\" class=\"dataframe\">\n",
       "  <thead>\n",
       "    <tr style=\"text-align: right;\">\n",
       "      <th></th>\n",
       "      <th>Train_r2</th>\n",
       "      <th>Test_r2</th>\n",
       "      <th>Mean_abs_error</th>\n",
       "      <th>Mean_sq_err</th>\n",
       "      <th>Root_mse</th>\n",
       "    </tr>\n",
       "  </thead>\n",
       "  <tbody>\n",
       "    <tr>\n",
       "      <th>Random Forest Regression</th>\n",
       "      <td>0.763661</td>\n",
       "      <td>0.728749</td>\n",
       "      <td>129439.902532</td>\n",
       "      <td>3.611034e+10</td>\n",
       "      <td>190027.204037</td>\n",
       "    </tr>\n",
       "  </tbody>\n",
       "</table>\n",
       "</div>"
      ],
      "text/plain": [
       "                          Train_r2   Test_r2  Mean_abs_error   Mean_sq_err  \\\n",
       "Random Forest Regression  0.763661  0.728749   129439.902532  3.611034e+10   \n",
       "\n",
       "                               Root_mse  \n",
       "Random Forest Regression  190027.204037  "
      ]
     },
     "execution_count": 128,
     "metadata": {},
     "output_type": "execute_result"
    }
   ],
   "source": [
    "ran_fo = RandomForestRegressor(n_estimators= 100, max_depth=9, min_samples_split=25)\n",
    "ran_result = model_eval(ran_fo,x_train,y_train,x_test,y_test,'Random Forest Regression')\n",
    "ran_result"
   ]
  },
  {
   "cell_type": "markdown",
   "metadata": {},
   "source": [
    "8. Bagging regressor"
   ]
  },
  {
   "cell_type": "code",
   "execution_count": 129,
   "metadata": {},
   "outputs": [
    {
     "data": {
      "text/html": [
       "<div>\n",
       "<style scoped>\n",
       "    .dataframe tbody tr th:only-of-type {\n",
       "        vertical-align: middle;\n",
       "    }\n",
       "\n",
       "    .dataframe tbody tr th {\n",
       "        vertical-align: top;\n",
       "    }\n",
       "\n",
       "    .dataframe thead th {\n",
       "        text-align: right;\n",
       "    }\n",
       "</style>\n",
       "<table border=\"1\" class=\"dataframe\">\n",
       "  <thead>\n",
       "    <tr style=\"text-align: right;\">\n",
       "      <th></th>\n",
       "      <th>Train_r2</th>\n",
       "      <th>Test_r2</th>\n",
       "      <th>Mean_abs_error</th>\n",
       "      <th>Mean_sq_err</th>\n",
       "      <th>Root_mse</th>\n",
       "    </tr>\n",
       "  </thead>\n",
       "  <tbody>\n",
       "    <tr>\n",
       "      <th>Bagging Regression</th>\n",
       "      <td>0.9395</td>\n",
       "      <td>0.710937</td>\n",
       "      <td>132352.361096</td>\n",
       "      <td>3.848159e+10</td>\n",
       "      <td>196167.247414</td>\n",
       "    </tr>\n",
       "  </tbody>\n",
       "</table>\n",
       "</div>"
      ],
      "text/plain": [
       "                    Train_r2   Test_r2  Mean_abs_error   Mean_sq_err  \\\n",
       "Bagging Regression    0.9395  0.710937   132352.361096  3.848159e+10   \n",
       "\n",
       "                         Root_mse  \n",
       "Bagging Regression  196167.247414  "
      ]
     },
     "execution_count": 129,
     "metadata": {},
     "output_type": "execute_result"
    }
   ],
   "source": [
    "bagg = BaggingRegressor(n_estimators= 100, max_features= x_train.shape[1], max_samples = x_train.shape[0])\n",
    "bagg_result = model_eval(bagg,x_train,y_train,x_test,y_test,'Bagging Regression')\n",
    "bagg_result"
   ]
  },
  {
   "cell_type": "code",
   "execution_count": 130,
   "metadata": {},
   "outputs": [
    {
     "data": {
      "text/html": [
       "<div>\n",
       "<style scoped>\n",
       "    .dataframe tbody tr th:only-of-type {\n",
       "        vertical-align: middle;\n",
       "    }\n",
       "\n",
       "    .dataframe tbody tr th {\n",
       "        vertical-align: top;\n",
       "    }\n",
       "\n",
       "    .dataframe thead th {\n",
       "        text-align: right;\n",
       "    }\n",
       "</style>\n",
       "<table border=\"1\" class=\"dataframe\">\n",
       "  <thead>\n",
       "    <tr style=\"text-align: right;\">\n",
       "      <th></th>\n",
       "      <th>Train_r2</th>\n",
       "      <th>Test_r2</th>\n",
       "      <th>Mean_abs_error</th>\n",
       "      <th>Mean_sq_err</th>\n",
       "      <th>Root_mse</th>\n",
       "    </tr>\n",
       "  </thead>\n",
       "  <tbody>\n",
       "    <tr>\n",
       "      <th>Bagging Regression</th>\n",
       "      <td>0.939500</td>\n",
       "      <td>0.710937</td>\n",
       "      <td>132352.361096</td>\n",
       "      <td>3.848159e+10</td>\n",
       "      <td>196167.247414</td>\n",
       "    </tr>\n",
       "    <tr>\n",
       "      <th>Random Forest Regression</th>\n",
       "      <td>0.763661</td>\n",
       "      <td>0.728749</td>\n",
       "      <td>129439.902532</td>\n",
       "      <td>3.611034e+10</td>\n",
       "      <td>190027.204037</td>\n",
       "    </tr>\n",
       "    <tr>\n",
       "      <th>AdaBoost Regression</th>\n",
       "      <td>0.546133</td>\n",
       "      <td>0.560377</td>\n",
       "      <td>194238.006452</td>\n",
       "      <td>5.852493e+10</td>\n",
       "      <td>241919.267349</td>\n",
       "    </tr>\n",
       "    <tr>\n",
       "      <th>KNN Regression</th>\n",
       "      <td>0.591444</td>\n",
       "      <td>0.184959</td>\n",
       "      <td>217855.848231</td>\n",
       "      <td>1.085026e+11</td>\n",
       "      <td>329397.385415</td>\n",
       "    </tr>\n",
       "    <tr>\n",
       "      <th>Decision Tree Regression</th>\n",
       "      <td>0.800632</td>\n",
       "      <td>0.614390</td>\n",
       "      <td>139416.521556</td>\n",
       "      <td>5.133450e+10</td>\n",
       "      <td>226571.187001</td>\n",
       "    </tr>\n",
       "    <tr>\n",
       "      <th>Linear Regression</th>\n",
       "      <td>0.529665</td>\n",
       "      <td>0.569068</td>\n",
       "      <td>175576.768167</td>\n",
       "      <td>5.736803e+10</td>\n",
       "      <td>239516.245600</td>\n",
       "    </tr>\n",
       "    <tr>\n",
       "      <th>Lasso Regression</th>\n",
       "      <td>0.529665</td>\n",
       "      <td>0.569064</td>\n",
       "      <td>175576.132500</td>\n",
       "      <td>5.736845e+10</td>\n",
       "      <td>239517.115495</td>\n",
       "    </tr>\n",
       "    <tr>\n",
       "      <th>Ridge Regression</th>\n",
       "      <td>0.529475</td>\n",
       "      <td>0.568439</td>\n",
       "      <td>175584.055371</td>\n",
       "      <td>5.745176e+10</td>\n",
       "      <td>239690.971808</td>\n",
       "    </tr>\n",
       "  </tbody>\n",
       "</table>\n",
       "</div>"
      ],
      "text/plain": [
       "                          Train_r2   Test_r2  Mean_abs_error   Mean_sq_err  \\\n",
       "Bagging Regression        0.939500  0.710937   132352.361096  3.848159e+10   \n",
       "Random Forest Regression  0.763661  0.728749   129439.902532  3.611034e+10   \n",
       "AdaBoost Regression       0.546133  0.560377   194238.006452  5.852493e+10   \n",
       "KNN Regression            0.591444  0.184959   217855.848231  1.085026e+11   \n",
       "Decision Tree Regression  0.800632  0.614390   139416.521556  5.133450e+10   \n",
       "Linear Regression         0.529665  0.569068   175576.768167  5.736803e+10   \n",
       "Lasso Regression          0.529665  0.569064   175576.132500  5.736845e+10   \n",
       "Ridge Regression          0.529475  0.568439   175584.055371  5.745176e+10   \n",
       "\n",
       "                               Root_mse  \n",
       "Bagging Regression        196167.247414  \n",
       "Random Forest Regression  190027.204037  \n",
       "AdaBoost Regression       241919.267349  \n",
       "KNN Regression            329397.385415  \n",
       "Decision Tree Regression  226571.187001  \n",
       "Linear Regression         239516.245600  \n",
       "Lasso Regression          239517.115495  \n",
       "Ridge Regression          239690.971808  "
      ]
     },
     "execution_count": 130,
     "metadata": {},
     "output_type": "execute_result"
    }
   ],
   "source": [
    "Final_result = pd.concat([bagg_result,ran_result,ada_result,knn_result,dt_result,lr_result,lass_result,rid_result])\n",
    "Final_result"
   ]
  },
  {
   "cell_type": "markdown",
   "metadata": {},
   "source": [
    "Saving the best model using PICKLE"
   ]
  },
  {
   "cell_type": "code",
   "execution_count": 131,
   "metadata": {},
   "outputs": [],
   "source": [
    "import pickle"
   ]
  },
  {
   "cell_type": "code",
   "execution_count": 132,
   "metadata": {},
   "outputs": [],
   "source": [
    "pickle.dump(ran_fo,open('Random_forest.pkl','wb'))\n",
    "pickle.dump(ada,open('Ada_boost.pkl','wb'))"
   ]
  },
  {
   "cell_type": "code",
   "execution_count": 134,
   "metadata": {},
   "outputs": [
    {
     "data": {
      "text/html": [
       "<div>\n",
       "<style scoped>\n",
       "    .dataframe tbody tr th:only-of-type {\n",
       "        vertical-align: middle;\n",
       "    }\n",
       "\n",
       "    .dataframe tbody tr th {\n",
       "        vertical-align: top;\n",
       "    }\n",
       "\n",
       "    .dataframe thead th {\n",
       "        text-align: right;\n",
       "    }\n",
       "</style>\n",
       "<table border=\"1\" class=\"dataframe\">\n",
       "  <thead>\n",
       "    <tr style=\"text-align: right;\">\n",
       "      <th></th>\n",
       "      <th>Brand Name</th>\n",
       "      <th>year</th>\n",
       "      <th>selling_price</th>\n",
       "      <th>km_driven</th>\n",
       "      <th>fuel</th>\n",
       "      <th>seller_type</th>\n",
       "      <th>transmission</th>\n",
       "      <th>owner</th>\n",
       "    </tr>\n",
       "  </thead>\n",
       "  <tbody>\n",
       "    <tr>\n",
       "      <th>1045</th>\n",
       "      <td>5</td>\n",
       "      <td>2018</td>\n",
       "      <td>270000.0</td>\n",
       "      <td>20000.0</td>\n",
       "      <td>4</td>\n",
       "      <td>1</td>\n",
       "      <td>1</td>\n",
       "      <td>0</td>\n",
       "    </tr>\n",
       "    <tr>\n",
       "      <th>3194</th>\n",
       "      <td>5</td>\n",
       "      <td>2017</td>\n",
       "      <td>525000.0</td>\n",
       "      <td>39000.0</td>\n",
       "      <td>4</td>\n",
       "      <td>0</td>\n",
       "      <td>1</td>\n",
       "      <td>0</td>\n",
       "    </tr>\n",
       "    <tr>\n",
       "      <th>1530</th>\n",
       "      <td>9</td>\n",
       "      <td>2016</td>\n",
       "      <td>990000.0</td>\n",
       "      <td>146000.0</td>\n",
       "      <td>1</td>\n",
       "      <td>0</td>\n",
       "      <td>1</td>\n",
       "      <td>0</td>\n",
       "    </tr>\n",
       "    <tr>\n",
       "      <th>553</th>\n",
       "      <td>6</td>\n",
       "      <td>2018</td>\n",
       "      <td>1800000.0</td>\n",
       "      <td>10000.0</td>\n",
       "      <td>1</td>\n",
       "      <td>0</td>\n",
       "      <td>0</td>\n",
       "      <td>0</td>\n",
       "    </tr>\n",
       "    <tr>\n",
       "      <th>1612</th>\n",
       "      <td>2</td>\n",
       "      <td>2007</td>\n",
       "      <td>229999.0</td>\n",
       "      <td>70000.0</td>\n",
       "      <td>4</td>\n",
       "      <td>1</td>\n",
       "      <td>1</td>\n",
       "      <td>2</td>\n",
       "    </tr>\n",
       "    <tr>\n",
       "      <th>2652</th>\n",
       "      <td>4</td>\n",
       "      <td>2010</td>\n",
       "      <td>325000.0</td>\n",
       "      <td>120000.0</td>\n",
       "      <td>1</td>\n",
       "      <td>1</td>\n",
       "      <td>1</td>\n",
       "      <td>4</td>\n",
       "    </tr>\n",
       "    <tr>\n",
       "      <th>152</th>\n",
       "      <td>3</td>\n",
       "      <td>2008</td>\n",
       "      <td>210000.0</td>\n",
       "      <td>53772.0</td>\n",
       "      <td>4</td>\n",
       "      <td>1</td>\n",
       "      <td>1</td>\n",
       "      <td>0</td>\n",
       "    </tr>\n",
       "    <tr>\n",
       "      <th>3985</th>\n",
       "      <td>6</td>\n",
       "      <td>2016</td>\n",
       "      <td>500000.0</td>\n",
       "      <td>35000.0</td>\n",
       "      <td>1</td>\n",
       "      <td>1</td>\n",
       "      <td>1</td>\n",
       "      <td>0</td>\n",
       "    </tr>\n",
       "    <tr>\n",
       "      <th>1059</th>\n",
       "      <td>2</td>\n",
       "      <td>2018</td>\n",
       "      <td>790000.0</td>\n",
       "      <td>19571.0</td>\n",
       "      <td>1</td>\n",
       "      <td>0</td>\n",
       "      <td>1</td>\n",
       "      <td>0</td>\n",
       "    </tr>\n",
       "    <tr>\n",
       "      <th>3788</th>\n",
       "      <td>2</td>\n",
       "      <td>2015</td>\n",
       "      <td>360000.0</td>\n",
       "      <td>80000.0</td>\n",
       "      <td>4</td>\n",
       "      <td>1</td>\n",
       "      <td>1</td>\n",
       "      <td>2</td>\n",
       "    </tr>\n",
       "    <tr>\n",
       "      <th>1252</th>\n",
       "      <td>0</td>\n",
       "      <td>2012</td>\n",
       "      <td>250000.0</td>\n",
       "      <td>110000.0</td>\n",
       "      <td>1</td>\n",
       "      <td>1</td>\n",
       "      <td>1</td>\n",
       "      <td>0</td>\n",
       "    </tr>\n",
       "    <tr>\n",
       "      <th>3631</th>\n",
       "      <td>3</td>\n",
       "      <td>2009</td>\n",
       "      <td>160000.0</td>\n",
       "      <td>90000.0</td>\n",
       "      <td>1</td>\n",
       "      <td>1</td>\n",
       "      <td>1</td>\n",
       "      <td>0</td>\n",
       "    </tr>\n",
       "    <tr>\n",
       "      <th>964</th>\n",
       "      <td>5</td>\n",
       "      <td>2018</td>\n",
       "      <td>500000.0</td>\n",
       "      <td>50000.0</td>\n",
       "      <td>1</td>\n",
       "      <td>1</td>\n",
       "      <td>1</td>\n",
       "      <td>0</td>\n",
       "    </tr>\n",
       "    <tr>\n",
       "      <th>4069</th>\n",
       "      <td>5</td>\n",
       "      <td>2012</td>\n",
       "      <td>229999.0</td>\n",
       "      <td>25000.0</td>\n",
       "      <td>4</td>\n",
       "      <td>1</td>\n",
       "      <td>1</td>\n",
       "      <td>0</td>\n",
       "    </tr>\n",
       "    <tr>\n",
       "      <th>1581</th>\n",
       "      <td>3</td>\n",
       "      <td>2013</td>\n",
       "      <td>360000.0</td>\n",
       "      <td>80000.0</td>\n",
       "      <td>1</td>\n",
       "      <td>1</td>\n",
       "      <td>1</td>\n",
       "      <td>2</td>\n",
       "    </tr>\n",
       "    <tr>\n",
       "      <th>2555</th>\n",
       "      <td>2</td>\n",
       "      <td>2016</td>\n",
       "      <td>612000.0</td>\n",
       "      <td>105429.0</td>\n",
       "      <td>4</td>\n",
       "      <td>0</td>\n",
       "      <td>1</td>\n",
       "      <td>0</td>\n",
       "    </tr>\n",
       "    <tr>\n",
       "      <th>2353</th>\n",
       "      <td>9</td>\n",
       "      <td>2012</td>\n",
       "      <td>350000.0</td>\n",
       "      <td>140000.0</td>\n",
       "      <td>1</td>\n",
       "      <td>1</td>\n",
       "      <td>1</td>\n",
       "      <td>4</td>\n",
       "    </tr>\n",
       "    <tr>\n",
       "      <th>1700</th>\n",
       "      <td>4</td>\n",
       "      <td>2019</td>\n",
       "      <td>800000.0</td>\n",
       "      <td>24000.0</td>\n",
       "      <td>1</td>\n",
       "      <td>1</td>\n",
       "      <td>1</td>\n",
       "      <td>0</td>\n",
       "    </tr>\n",
       "    <tr>\n",
       "      <th>2214</th>\n",
       "      <td>1</td>\n",
       "      <td>2010</td>\n",
       "      <td>160000.0</td>\n",
       "      <td>102307.0</td>\n",
       "      <td>1</td>\n",
       "      <td>0</td>\n",
       "      <td>1</td>\n",
       "      <td>0</td>\n",
       "    </tr>\n",
       "    <tr>\n",
       "      <th>753</th>\n",
       "      <td>5</td>\n",
       "      <td>2013</td>\n",
       "      <td>330000.0</td>\n",
       "      <td>55425.0</td>\n",
       "      <td>4</td>\n",
       "      <td>0</td>\n",
       "      <td>1</td>\n",
       "      <td>0</td>\n",
       "    </tr>\n",
       "  </tbody>\n",
       "</table>\n",
       "</div>"
      ],
      "text/plain": [
       "      Brand Name   year  selling_price  km_driven  fuel  seller_type  \\\n",
       "1045            5  2018       270000.0    20000.0     4            1   \n",
       "3194            5  2017       525000.0    39000.0     4            0   \n",
       "1530            9  2016       990000.0   146000.0     1            0   \n",
       "553             6  2018      1800000.0    10000.0     1            0   \n",
       "1612            2  2007       229999.0    70000.0     4            1   \n",
       "2652            4  2010       325000.0   120000.0     1            1   \n",
       "152             3  2008       210000.0    53772.0     4            1   \n",
       "3985            6  2016       500000.0    35000.0     1            1   \n",
       "1059            2  2018       790000.0    19571.0     1            0   \n",
       "3788            2  2015       360000.0    80000.0     4            1   \n",
       "1252            0  2012       250000.0   110000.0     1            1   \n",
       "3631            3  2009       160000.0    90000.0     1            1   \n",
       "964             5  2018       500000.0    50000.0     1            1   \n",
       "4069            5  2012       229999.0    25000.0     4            1   \n",
       "1581            3  2013       360000.0    80000.0     1            1   \n",
       "2555            2  2016       612000.0   105429.0     4            0   \n",
       "2353            9  2012       350000.0   140000.0     1            1   \n",
       "1700            4  2019       800000.0    24000.0     1            1   \n",
       "2214            1  2010       160000.0   102307.0     1            0   \n",
       "753             5  2013       330000.0    55425.0     4            0   \n",
       "\n",
       "      transmission  owner  \n",
       "1045             1      0  \n",
       "3194             1      0  \n",
       "1530             1      0  \n",
       "553              0      0  \n",
       "1612             1      2  \n",
       "2652             1      4  \n",
       "152              1      0  \n",
       "3985             1      0  \n",
       "1059             1      0  \n",
       "3788             1      2  \n",
       "1252             1      0  \n",
       "3631             1      0  \n",
       "964              1      0  \n",
       "4069             1      0  \n",
       "1581             1      2  \n",
       "2555             1      0  \n",
       "2353             1      4  \n",
       "1700             1      0  \n",
       "2214             1      0  \n",
       "753              1      0  "
      ]
     },
     "execution_count": 134,
     "metadata": {},
     "output_type": "execute_result"
    }
   ],
   "source": [
    "dataset2_sample = dataset2.sample(n=20, random_state= 42)\n",
    "dataset2_sample"
   ]
  },
  {
   "cell_type": "code",
   "execution_count": 150,
   "metadata": {},
   "outputs": [],
   "source": [
    "dataset2_sample.to_csv('dataset2_sample.csv')"
   ]
  },
  {
   "cell_type": "code",
   "execution_count": 135,
   "metadata": {},
   "outputs": [
    {
     "name": "stdout",
     "output_type": "stream",
     "text": [
      "(20, 7)\n",
      "(20,)\n"
     ]
    }
   ],
   "source": [
    "x = dataset2_sample.drop('selling_price', axis = 1)\n",
    "y = dataset2_sample['selling_price']\n",
    "print(x.shape)\n",
    "print(y.shape)"
   ]
  },
  {
   "cell_type": "code",
   "execution_count": 136,
   "metadata": {},
   "outputs": [
    {
     "name": "stdout",
     "output_type": "stream",
     "text": [
      "(2, 7)\n",
      "(18, 7)\n",
      "(2,)\n",
      "(18,)\n"
     ]
    }
   ],
   "source": [
    "x2_train,x2_test,y2_train,y2_test = train_test_split(x,y, test_size= 0.10,random_state=42)\n",
    "print(x2_test.shape)\n",
    "print(x2_train.shape)\n",
    "print(y2_test.shape)\n",
    "print(y2_train.shape)\n"
   ]
  },
  {
   "cell_type": "code",
   "execution_count": 137,
   "metadata": {},
   "outputs": [],
   "source": [
    "Loaded_model = pickle.load(open('Random_forest.pkl','rb'))"
   ]
  },
  {
   "cell_type": "code",
   "execution_count": 138,
   "metadata": {},
   "outputs": [
    {
     "data": {
      "text/html": [
       "<div>\n",
       "<style scoped>\n",
       "    .dataframe tbody tr th:only-of-type {\n",
       "        vertical-align: middle;\n",
       "    }\n",
       "\n",
       "    .dataframe tbody tr th {\n",
       "        vertical-align: top;\n",
       "    }\n",
       "\n",
       "    .dataframe thead th {\n",
       "        text-align: right;\n",
       "    }\n",
       "</style>\n",
       "<table border=\"1\" class=\"dataframe\">\n",
       "  <thead>\n",
       "    <tr style=\"text-align: right;\">\n",
       "      <th></th>\n",
       "      <th>Train_r2</th>\n",
       "      <th>Test_r2</th>\n",
       "      <th>Mean_abs_error</th>\n",
       "      <th>Mean_sq_err</th>\n",
       "      <th>Root_mse</th>\n",
       "    </tr>\n",
       "  </thead>\n",
       "  <tbody>\n",
       "    <tr>\n",
       "      <th>Loaded Model</th>\n",
       "      <td>-0.00008</td>\n",
       "      <td>-0.034501</td>\n",
       "      <td>265000.0</td>\n",
       "      <td>7.264784e+10</td>\n",
       "      <td>269532.629209</td>\n",
       "    </tr>\n",
       "  </tbody>\n",
       "</table>\n",
       "</div>"
      ],
      "text/plain": [
       "              Train_r2   Test_r2  Mean_abs_error   Mean_sq_err       Root_mse\n",
       "Loaded Model  -0.00008 -0.034501        265000.0  7.264784e+10  269532.629209"
      ]
     },
     "execution_count": 138,
     "metadata": {},
     "output_type": "execute_result"
    }
   ],
   "source": [
    "Model_sco = model_eval(Loaded_model, x2_train, y2_train, x2_test, y2_test, 'Loaded Model')\n",
    "Model_sco"
   ]
  }
 ],
 "metadata": {
  "kernelspec": {
   "display_name": "Python 3",
   "language": "python",
   "name": "python3"
  },
  "language_info": {
   "codemirror_mode": {
    "name": "ipython",
    "version": 3
   },
   "file_extension": ".py",
   "mimetype": "text/x-python",
   "name": "python",
   "nbconvert_exporter": "python",
   "pygments_lexer": "ipython3",
   "version": "3.12.4"
  }
 },
 "nbformat": 4,
 "nbformat_minor": 2
}
